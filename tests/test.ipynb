{
    "metadata": {
        "kernelspec": {
            "name": "SQL",
            "display_name": "SQL",
            "language": "sql"
        },
        "language_info": {
            "name": "sql",
            "version": ""
        }
    },
    "nbformat_minor": 2,
    "nbformat": 4,
    "cells": [
        {
            "cell_type": "code",
            "source": [
                "SELECT a + b +d AS foo,\n",
                "c AS bar from my_table"
            ],
            "metadata": {
                "azdata_cell_guid": "13d5e74f-cc47-47b5-af13-06246ae600be",
                "language": "sql",
                "tags": [
                    "hide_input"
                ]
            },
            "outputs": [],
            "execution_count": null
        },
        {
            "cell_type": "code",
            "source": [
                "select foo as bar from thistable;\r\n",
                "select \r\n",
                "    foo as bar from thistable;\r\n",
                "select foo as bar from thistable\r\n",
                "select foo as bar \r\n",
                "from thistable"
            ],
            "metadata": {
                "language": "sql",
                "azdata_cell_guid": "0fee2670-94e1-42c0-a51d-6f5099a075f7"
            },
            "outputs": [],
            "execution_count": null
        },
        {
            "cell_type": "markdown",
            "source": [
                "SELect another, thing from anothertable where another is not null"
            ],
            "metadata": {
                "language": "sql",
                "azdata_cell_guid": "e30b7fd2-7a44-4e56-a3ae-f99156b46df8"
            },
            "attachments": {}
        }
    ]
}