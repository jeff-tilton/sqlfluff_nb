{
  "cells": [
    {
      "cell_type": "code",
      "execution_count": null,
      "metadata": {
        "azdata_cell_guid": "13d5e74f-cc47-47b5-af13-06246ae600be",
        "language": "sql",
        "tags": []
      },
      "outputs": [],
      "source": [
        "SELECT\n",
        "    *,\n",
        "    1,\n",
        "    blah AS foo\n",
        "FROM mytable\n",
        ""
      ]
    },
    {
      "cell_type": "code",
      "execution_count": null,
      "metadata": {
        "azdata_cell_guid": "0fee2670-94e1-42c0-a51d-6f5099a075f7",
        "language": "sql"
      },
      "outputs": [],
      "source": [
        "SELECT\n",
        "    *,\n",
        "    1,\n",
        "    blah AS\n",
        "    foo FROM mytable\n",
        ""
      ]
    },
    {
      "attachments": {},
      "cell_type": "markdown",
      "metadata": {
        "azdata_cell_guid": "e30b7fd2-7a44-4e56-a3ae-f99156b46df8",
        "language": "sql"
      },
      "source": [
        "SeLEct  *, 1, blah as  fOO  from myTable"
      ]
    }
  ],
  "metadata": {
    "kernelspec": {
      "display_name": "SQL",
      "language": "sql",
      "name": "SQL"
    },
    "language_info": {
      "name": "sql",
      "version": ""
    }
  },
  "nbformat": 4,
  "nbformat_minor": 2
}